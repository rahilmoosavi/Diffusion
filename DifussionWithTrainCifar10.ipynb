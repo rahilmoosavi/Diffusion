{
  "nbformat": 4,
  "nbformat_minor": 0,
  "metadata": {
    "colab": {
      "provenance": [],
      "gpuType": "T4"
    },
    "kernelspec": {
      "name": "python3",
      "display_name": "Python 3"
    },
    "language_info": {
      "name": "python"
    },
    "accelerator": "GPU"
  },
  "cells": [
    {
      "cell_type": "code",
      "execution_count": null,
      "metadata": {
        "colab": {
          "base_uri": "https://localhost:8080/"
        },
        "id": "ubrUzsfUU0BP",
        "outputId": "ff1b87d8-1532-42bf-ddca-d18b040ec141"
      },
      "outputs": [
        {
          "output_type": "stream",
          "name": "stdout",
          "text": [
            "Collecting einops\n",
            "  Downloading einops-0.7.0-py3-none-any.whl (44 kB)\n",
            "\u001b[2K     \u001b[90m━━━━━━━━━━━━━━━━━━━━━━━━━━━━━━━━━━━━━━━━\u001b[0m \u001b[32m44.6/44.6 kB\u001b[0m \u001b[31m691.5 kB/s\u001b[0m eta \u001b[36m0:00:00\u001b[0m\n",
            "\u001b[?25hInstalling collected packages: einops\n",
            "Successfully installed einops-0.7.0\n"
          ]
        }
      ],
      "source": [
        "!pip install einops"
      ]
    },
    {
      "cell_type": "code",
      "source": [
        "!git clone https://github.com/gmongaras/Diffusion_models_from_scratch.git"
      ],
      "metadata": {
        "colab": {
          "base_uri": "https://localhost:8080/"
        },
        "id": "VO8UVwk_U9jI",
        "outputId": "9c356dcf-cd9b-4670-a868-ebb25266e391"
      },
      "execution_count": null,
      "outputs": [
        {
          "output_type": "stream",
          "name": "stdout",
          "text": [
            "Cloning into 'Diffusion_models_from_scratch'...\n",
            "remote: Enumerating objects: 1200, done.\u001b[K\n",
            "remote: Counting objects: 100% (200/200), done.\u001b[K\n",
            "remote: Compressing objects: 100% (115/115), done.\u001b[K\n",
            "remote: Total 1200 (delta 94), reused 162 (delta 80), pack-reused 1000\u001b[K\n",
            "Receiving objects: 100% (1200/1200), 194.86 MiB | 31.16 MiB/s, done.\n",
            "Resolving deltas: 100% (784/784), done.\n",
            "Updating files: 100% (79/79), done.\n"
          ]
        }
      ]
    },
    {
      "cell_type": "code",
      "source": [
        "cd /content/Diffusion_models_from_scratch"
      ],
      "metadata": {
        "colab": {
          "base_uri": "https://localhost:8080/"
        },
        "id": "-ctlpRuPU-uh",
        "outputId": "fb1b6385-48a0-473d-9aac-44601f9af23d"
      },
      "execution_count": null,
      "outputs": [
        {
          "output_type": "stream",
          "name": "stdout",
          "text": [
            "/content/Diffusion_models_from_scratch\n"
          ]
        }
      ]
    },
    {
      "cell_type": "code",
      "source": [
        "!python /content/Diffusion_models_from_scratch/data/loadImagenet64.py"
      ],
      "metadata": {
        "colab": {
          "base_uri": "https://localhost:8080/"
        },
        "id": "lUykwNuZVDJQ",
        "outputId": "0b526a7a-5879-430a-b2e1-ccbcaa513ba5"
      },
      "execution_count": null,
      "outputs": [
        {
          "output_type": "stream",
          "name": "stdout",
          "text": [
            "Downloading https://www.cs.toronto.edu/~kriz/cifar-10-python.tar.gz to /content/1/cifar-10-python.tar.gz\n",
            "100% 170498071/170498071 [00:01<00:00, 104049708.04it/s]\n",
            "Extracting /content/1/cifar-10-python.tar.gz to /content/1/\n"
          ]
        }
      ]
    },
    {
      "cell_type": "code",
      "source": [
        "!mv /content/Diffusion_models_from_scratch/Imagenet64 /content/Diffusion_models_from_scratch/data"
      ],
      "metadata": {
        "id": "jvoEPL1WVD6A"
      },
      "execution_count": null,
      "outputs": []
    },
    {
      "cell_type": "code",
      "source": [
        "ls /content/Diffusion_models_from_scratch/data/Imagenet64 | wc -l"
      ],
      "metadata": {
        "colab": {
          "base_uri": "https://localhost:8080/"
        },
        "id": "_QobkwTBVVGR",
        "outputId": "191effe4-96d1-4e3b-aa54-5637e6defa57"
      },
      "execution_count": null,
      "outputs": [
        {
          "output_type": "stream",
          "name": "stdout",
          "text": [
            "50001\n"
          ]
        }
      ]
    },
    {
      "cell_type": "code",
      "source": [
        "!python /content/Diffusion_models_from_scratch/data/make_massive_tensor.py"
      ],
      "metadata": {
        "colab": {
          "base_uri": "https://localhost:8080/"
        },
        "id": "G--xw3IwVcRx",
        "outputId": "0ac9a78a-4db1-43b9-ff6e-4c31ff3f9185"
      },
      "execution_count": null,
      "outputs": [
        {
          "output_type": "stream",
          "name": "stdout",
          "text": [
            "torch.Size([50000, 3, 32, 32])\n",
            "torch.Size([50000])\n"
          ]
        }
      ]
    },
    {
      "cell_type": "code",
      "source": [
        "!pwd"
      ],
      "metadata": {
        "colab": {
          "base_uri": "https://localhost:8080/"
        },
        "id": "MExsOFe0Vczw",
        "outputId": "c20b5c05-ad0f-4c05-edc7-6d9cbfd3d68b"
      },
      "execution_count": null,
      "outputs": [
        {
          "output_type": "stream",
          "name": "stdout",
          "text": [
            "/content/Diffusion_models_from_scratch\n"
          ]
        }
      ]
    },
    {
      "cell_type": "code",
      "source": [
        "#numSaveSteps= 391 :This parameter saves the weights every 5 epochs"
      ],
      "metadata": {
        "id": "u5OxdaAyURWw"
      },
      "execution_count": null,
      "outputs": []
    },
    {
      "cell_type": "code",
      "source": [
        "!python src/train.py --blk_types res,res,clsAtn,atn,chnAtn --batchSize 64 --epochs 50 --numSaveSteps 391"
      ],
      "metadata": {
        "colab": {
          "base_uri": "https://localhost:8080/"
        },
        "id": "Bc3LpUS2Vt4E",
        "outputId": "64177715-9d10-4409-92cb-4025f2c01c9d"
      },
      "execution_count": null,
      "outputs": [
        {
          "output_type": "stream",
          "name": "stdout",
          "text": [
            "50000 data loaded in\n",
            "step #1   Latest loss estimate: 1.142852\n",
            "step #2   Latest loss estimate: 1.086507\n",
            "step #3   Latest loss estimate: 1.031719\n",
            "step #4   Latest loss estimate: 0.991557\n",
            "step #5   Latest loss estimate: 0.96813\n",
            "step #6   Latest loss estimate: 0.949686\n",
            "step #7   Latest loss estimate: 0.930174\n",
            "step #8   Latest loss estimate: 0.895956\n",
            "step #9   Latest loss estimate: 0.851978\n",
            "step #10   Latest loss estimate: 0.836782\n",
            "step #11   Latest loss estimate: 0.798324\n",
            "step #12   Latest loss estimate: 0.758368\n",
            "step #13   Latest loss estimate: 0.735693\n",
            "step #14   Latest loss estimate: 0.727084\n",
            "step #15   Latest loss estimate: 0.684166\n",
            "step #16   Latest loss estimate: 0.678682\n",
            "step #17   Latest loss estimate: 0.647193\n",
            "step #18   Latest loss estimate: 0.603868\n",
            "step #19   Latest loss estimate: 0.596556\n",
            "step #20   Latest loss estimate: 0.586241\n",
            "step #21   Latest loss estimate: 0.561693\n",
            "step #22   Latest loss estimate: 0.543751\n",
            "step #23   Latest loss estimate: 0.530924\n",
            "step #24   Latest loss estimate: 0.513117\n",
            "step #25   Latest loss estimate: 0.51217\n",
            "step #26   Latest loss estimate: 0.503761\n",
            "step #27   Latest loss estimate: 0.468466\n",
            "step #28   Latest loss estimate: 0.445249\n",
            "\n",
            "Aborted!\n",
            "^C\n"
          ]
        }
      ]
    },
    {
      "cell_type": "code",
      "source": [
        "!cp -R /content/Diffusion_models_from_scratch/models /content/drive/MyDrive/Cifar10_4"
      ],
      "metadata": {
        "id": "vf_IRlNKvVWA"
      },
      "execution_count": null,
      "outputs": []
    },
    {
      "cell_type": "code",
      "source": [
        "ls -lh /content/Diffusion_models_from_scratch/models"
      ],
      "metadata": {
        "id": "1El9Sfsdxxv_"
      },
      "execution_count": null,
      "outputs": []
    },
    {
      "cell_type": "code",
      "source": [
        "#Generating an image from the Cifar10 database in the desired class: as here is class 1"
      ],
      "metadata": {
        "id": "uF3wAQDuPa37"
      },
      "execution_count": null,
      "outputs": []
    },
    {
      "cell_type": "code",
      "source": [
        "!python -m src.infer --loadDir models --loadFile model_4e_3128s.pkl --loadDefFile model_params_4e_3128s.json --device gpu --step_size 20 --class_label 1 --out_imgname 'test.png' --out_gifname 'test.gif'"
      ],
      "metadata": {
        "colab": {
          "base_uri": "https://localhost:8080/"
        },
        "id": "rhiWL0ukzA7m",
        "outputId": "e54cb375-17f4-4ed6-e9f6-3e2423cfeb12"
      },
      "execution_count": null,
      "outputs": [
        {
          "output_type": "stream",
          "name": "stdout",
          "text": [
            "100% 50/50 [00:14<00:00,  3.51it/s]\n",
            "Figure(640x480)\n"
          ]
        }
      ]
    }
  ]
}